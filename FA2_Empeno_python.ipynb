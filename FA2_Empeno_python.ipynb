{
 "cells": [
  {
   "cell_type": "code",
   "execution_count": 12,
   "metadata": {},
   "outputs": [
    {
     "name": "stdout",
     "output_type": "stream",
     "text": [
      "-33600\n"
     ]
    }
   ],
   "source": [
    "def multiply(num):\n",
    "    result = 1\n",
    "    for x in num:\n",
    "        result = result * x\n",
    "    return result\n",
    "\n",
    "lister = [5, 6, -1, 2, 4, -2, -10, 7]\n",
    "print(multiply(lister))"
   ]
  },
  {
   "cell_type": "code",
   "execution_count": 16,
   "metadata": {},
   "outputs": [],
   "source": [
    "def box(xinput, yinput) :\n",
    "    x = xinput\n",
    "    yinput *= 5\n",
    "    y = 1\n",
    "    while x >= 0 :\n",
    "        if x == xinput :\n",
    "            print(\"/ - - - -\", end = \" \"),\n",
    "        elif x == 0 :\n",
    "            print(\"\\\\\"),\n",
    "        else :\n",
    "            print(\"+ - - - -\", end = \" \")\n",
    "        x -= 1\n",
    "    x = xinput\n",
    "    while y <= yinput :\n",
    "        if y % 5 != 0 :\n",
    "            while x >= 0 :\n",
    "                if x == xinput :\n",
    "                    print(\"|        \", end = \" \"),\n",
    "                elif x == 0 :\n",
    "                    print(\"|\"),\n",
    "                else :\n",
    "                    print(\"|        \", end = \" \")\n",
    "                x -= 1\n",
    "            x = xinput\n",
    "        if y % 5 == 0 :\n",
    "            if y == yinput :\n",
    "                while x >= 0 :\n",
    "                    if x == xinput :\n",
    "                        print(\"\\\\ - - - -\", end = \" \"),\n",
    "                    elif x == 0 :\n",
    "                        print(\"/\"),\n",
    "                    else :\n",
    "                        print(\"+ - - - -\", end = \" \")\n",
    "                    x -= 1\n",
    "                x = xinput\n",
    "            else :\n",
    "                while x >= 0 :\n",
    "                    if x == xinput :\n",
    "                        print(\"+ - - - -\", end = \" \"),\n",
    "                    elif x == 0 :\n",
    "                        print(\"+\"),\n",
    "                    else :\n",
    "                        print(\"+ - - - -\", end = \" \")\n",
    "                    x -= 1\n",
    "                x = xinput\n",
    "        y += 1"
   ]
  },
  {
   "cell_type": "code",
   "execution_count": 17,
   "metadata": {},
   "outputs": [
    {
     "name": "stdout",
     "output_type": "stream",
     "text": [
      "/ - - - - + - - - - + - - - - + - - - - \\\n",
      "|         |         |         |         |\n",
      "|         |         |         |         |\n",
      "|         |         |         |         |\n",
      "|         |         |         |         |\n",
      "+ - - - - + - - - - + - - - - + - - - - +\n",
      "|         |         |         |         |\n",
      "|         |         |         |         |\n",
      "|         |         |         |         |\n",
      "|         |         |         |         |\n",
      "+ - - - - + - - - - + - - - - + - - - - +\n",
      "|         |         |         |         |\n",
      "|         |         |         |         |\n",
      "|         |         |         |         |\n",
      "|         |         |         |         |\n",
      "+ - - - - + - - - - + - - - - + - - - - +\n",
      "|         |         |         |         |\n",
      "|         |         |         |         |\n",
      "|         |         |         |         |\n",
      "|         |         |         |         |\n",
      "\\ - - - - + - - - - + - - - - + - - - - /\n"
     ]
    }
   ],
   "source": [
    "box(4,4)"
   ]
  },
  {
   "cell_type": "code",
   "execution_count": null,
   "metadata": {},
   "outputs": [],
   "source": []
  }
 ],
 "metadata": {
  "kernelspec": {
   "display_name": "Python 3",
   "language": "python",
   "name": "python3"
  },
  "language_info": {
   "codemirror_mode": {
    "name": "ipython",
    "version": 3
   },
   "file_extension": ".py",
   "mimetype": "text/x-python",
   "name": "python",
   "nbconvert_exporter": "python",
   "pygments_lexer": "ipython3",
   "version": "3.7.0"
  }
 },
 "nbformat": 4,
 "nbformat_minor": 2
}
